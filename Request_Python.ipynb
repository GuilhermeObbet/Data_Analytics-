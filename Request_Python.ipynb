{
 "cells": [
  {
   "cell_type": "code",
   "execution_count": null,
   "id": "5e4ae08f",
   "metadata": {},
   "outputs": [],
   "source": [
    "import requests as rq"
   ]
  },
  {
   "cell_type": "code",
   "execution_count": null,
   "id": "1f0a2746",
   "metadata": {
    "scrolled": true
   },
   "outputs": [],
   "source": [
    "# Usando o GET de requests para pegar dados de uma API\n",
    "\n",
    "requisicao = rq.get(\" https://economia.awesomeapi.com.br/last/USD-BRL,EUR-BRL,BTC-BRL\")\n",
    "print(requisicao)\n",
    "\n",
    "# os arquivos vem em Json.\n",
    "print(requisicao.json())\n",
    "\n",
    "# Usando o GET para pegar dados de uma base de dados criada no FIREBASE\n",
    "# importante colocar a extensão JSON no final do link, pois é uma regra do FIREBASE.\n",
    "\n",
    "requisicao02 = rq.get(\"https://teste-d82b2-default-rtdb.firebaseio.com/.json\")\n",
    "print(requisicao02)\n",
    "print(requisicao02.json())"
   ]
  },
  {
   "cell_type": "code",
   "execution_count": null,
   "id": "a0aa1ce0",
   "metadata": {},
   "outputs": [],
   "source": [
    "#Usando o POST para acrescentar dados a uma base de dados\n",
    "# IMPORTANTE que as informa;cões estejam em formato de testo, por isso que tudo está envolvido por aspas simples\n",
    "\n",
    "informacoes = '{\"Nome\": \"Otto\", \"Sobrenome\": \"Ribeiro\", \"Idade\": \"3\"}'\n",
    "requisicao03 = rq.post(\"https://teste-d82b2-default-rtdb.firebaseio.com/.json\", data = informacoes)\n",
    "print(requisicao03)\n",
    "print(requisicao03.json())"
   ]
  },
  {
   "cell_type": "code",
   "execution_count": null,
   "id": "9c949645",
   "metadata": {},
   "outputs": [],
   "source": [
    "# Usando o PATCH para atualizar os dados da base de dados.\n",
    "\n",
    "informacoes = '{\"Nome\": \"Jucileu\", \"Sobrenome\": \"Andrada\", \"Idade\": \"26\"}'\n",
    "requisicao03 = rq.patch(\"https://teste-d82b2-default-rtdb.firebaseio.com//-O3DY_TY3l6q1V4vS5ZR.json\", data = informacoes)\n",
    "print(requisicao03)\n",
    "print(requisicao03.json())"
   ]
  },
  {
   "cell_type": "code",
   "execution_count": null,
   "id": "04f8a495",
   "metadata": {},
   "outputs": [],
   "source": [
    "# Usando o DELETE para DELETAR os dados da base de dados.\n",
    "\n",
    "requisicao03 = rq.delete(\"https://teste-d82b2-default-rtdb.firebaseio.com/-O3DY_TY3l6q1V4vS5ZR.json\")\n",
    "print(requisicao03)\n",
    "print(requisicao03.json())"
   ]
  }
 ],
 "metadata": {
  "kernelspec": {
   "display_name": "Python 3 (ipykernel)",
   "language": "python",
   "name": "python3"
  },
  "language_info": {
   "codemirror_mode": {
    "name": "ipython",
    "version": 3
   },
   "file_extension": ".py",
   "mimetype": "text/x-python",
   "name": "python",
   "nbconvert_exporter": "python",
   "pygments_lexer": "ipython3",
   "version": "3.11.5"
  }
 },
 "nbformat": 4,
 "nbformat_minor": 5
}
