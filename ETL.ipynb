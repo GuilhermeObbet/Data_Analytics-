{
 "cells": [
  {
   "cell_type": "code",
   "execution_count": 5,
   "id": "0a6ef2fa",
   "metadata": {},
   "outputs": [],
   "source": [
    "import pandas as pd\n",
    "import os # serve para manipular o sistema operacional, para interagir com os diretorios\n",
    "import glob2 #serve para manipular mais de um arquivo"
   ]
  },
  {
   "cell_type": "code",
   "execution_count": 7,
   "id": "19997fd4",
   "metadata": {},
   "outputs": [],
   "source": [
    "# Selecionando todos os arquivos da pasta em uma variável.\n",
    "folder_path = ('Documents//arquivos_DATA_RAW')\n",
    "\n",
    "# Fazendo um loop usando o glob para selecionar todos os arquivos da pasta\n",
    "excel_files = glob2.glob(os.path.join(folder_path, '*.xlsx'))\n",
    "    \n",
    "if not excel_files:\n",
    "    print('Arquivos xlsx não encontrado')\n",
    "else:\n",
    "     #para gaurdar na memoria os dataFrames\n",
    "    df = []\n",
    "\n",
    "    for file in excel_files:\n",
    "        try:\n",
    "            # Criei uma variavel para armazenar, temporariamente, todos os arquivos lido\n",
    "            df_temp = pd.read_excel(file)\n",
    "    \n",
    "            # Pegando o nome do arquivo, que tem o país, prezando a rastreabilidade\n",
    "            file_name = os.path.basename(file)\n",
    "            \n",
    "            # Criando uma coluna com nome do arquivo de origem\n",
    "            df_temp['File Name'] = file_name\n",
    "             \n",
    "            # Criando uma condição para combinar os nomes do arquivo com uma coluna nova da localização\n",
    "            if 'brasil' in file_name.lower():\n",
    "                df_temp['Location'] = 'Br'\n",
    "            elif 'france' in file_name.lower():\n",
    "                df_temp['Location'] = 'Fr'\n",
    "            elif 'italian' in file_name.lower():\n",
    "                df_temp['Location'] = 'It'\n",
    "            \n",
    "            # Criando uma coluna para extrair a campanha, usando a função extract da string, pelo RegEx\n",
    "            df_temp['Campanha'] = df_temp['utm_link'].str.extract(r'utm_campaign=(.*)')\n",
    "        \n",
    "            # Guardando os dados tratados dentro da array vazia criada\n",
    "            df.append(df_temp)\n",
    "            \n",
    "        except Exception as e:\n",
    "            print(f'Erro ao ler o arquivo {file} : {e}') # O F serve para interpolar uma string, colocar os valores, concatenar\n",
    "     \n",
    " # Concatenando as todas as tabelas em uma só.\n",
    "if df:\n",
    "    result = pd.concat(df, ignore_index=True)\n",
    "\n",
    "    # Criando um caminho de saída, e gerando um novo arquivo xlsx\n",
    "    output_file = os.path.join('Documents//arquivos_DATA_READY','clean.xlsx')\n",
    "    \n",
    "    # Escrevendo o arquivo novo no arquivo de saída, usando o writer do pandas\n",
    "    writer = pd.ExcelWriter(output_file, engine = 'xlsxwriter')\n",
    "    \n",
    "    # Transformando o documento em excel\n",
    "    result.to_excel(writer, index=False)\n",
    "    \n",
    "    # Salvando o arquivo\n",
    "    writer._save()\n",
    "else:\n",
    "    print('Nenhum dado a ser salvo')\n",
    "        "
   ]
  },
  {
   "cell_type": "code",
   "execution_count": null,
   "id": "209bb881",
   "metadata": {},
   "outputs": [],
   "source": []
  }
 ],
 "metadata": {
  "kernelspec": {
   "display_name": "Python 3 (ipykernel)",
   "language": "python",
   "name": "python3"
  },
  "language_info": {
   "codemirror_mode": {
    "name": "ipython",
    "version": 3
   },
   "file_extension": ".py",
   "mimetype": "text/x-python",
   "name": "python",
   "nbconvert_exporter": "python",
   "pygments_lexer": "ipython3",
   "version": "3.11.5"
  }
 },
 "nbformat": 4,
 "nbformat_minor": 5
}
