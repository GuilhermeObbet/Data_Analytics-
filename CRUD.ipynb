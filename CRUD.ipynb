{
 "cells": [
  {
   "cell_type": "code",
   "execution_count": 7,
   "id": "e65c53ae",
   "metadata": {},
   "outputs": [],
   "source": [
    "import pyodbc"
   ]
  },
  {
   "cell_type": "code",
   "execution_count": 8,
   "id": "097f7e9e",
   "metadata": {},
   "outputs": [
    {
     "name": "stdout",
     "output_type": "stream",
     "text": [
      "conexão bem sucedida.\n"
     ]
    }
   ],
   "source": [
    "# No Driver já vem instalado pelo SQL Serve\n",
    "# No Server, é o nome do Server usado no SQL\n",
    "# No Database é o nome do banco de dados\n",
    "\n",
    "dados_conexao = (\n",
    "    \"Driver={SQL Server};\"\n",
    "    \"Server=GUILHERME\\SQLEXPRESS;\"\n",
    "    \"Database=PythonSQL;\"\n",
    ")\n",
    "\n",
    "# Depois somente chamar os dados da conexão em uma varuiavel.\n",
    "\n",
    "conexao = pyodbc.connect(dados_conexao)\n",
    "print('conexão bem sucedida.')"
   ]
  },
  {
   "cell_type": "code",
   "execution_count": 9,
   "id": "aece3c92",
   "metadata": {},
   "outputs": [],
   "source": [
    "# N biblioteca pyodbc é usado o cursor para criar uma query\n",
    "\n",
    "cursor = conexao.cursor()"
   ]
  },
  {
   "cell_type": "code",
   "execution_count": 19,
   "id": "13047388",
   "metadata": {},
   "outputs": [],
   "source": [
    "                         # CRIANDO\n",
    "\n",
    "# Agora usamos o COMANDO do SQL para criação.\n",
    "\n",
    "# OBS, um texto de várias linhas em Python, vc precisa colocá-lo dentro de 3 aspas.\n",
    "\n",
    "# OBS, se foi usado aspas duplas dentro do comendo, usasse aspas simples fora, e virse versa.\n",
    "\n",
    "comando = \"\"\"INSERT INTO Vendas(id_venda, cliente, produto, data_venda, preco, quantidade)\n",
    "VALUES\n",
    "\t(2, 'Henrique', 'Ipad', '07/07/2024', 9500, 2)\"\"\"\n",
    "\n",
    "# Para executar o comando usamos o EXECUTE.\n",
    "\n",
    "cursor.execute(comando)\n",
    "\n",
    "# Para atualizar o banco de dados, vc precisa dar um commit.\n",
    "# Caso não dá um update, ñ é necessário dar o commit\n",
    "\n",
    "cursor.commit()"
   ]
  },
  {
   "cell_type": "code",
   "execution_count": 21,
   "id": "05fe0bcd",
   "metadata": {},
   "outputs": [],
   "source": [
    "                      # SETANDO\n",
    "    \n",
    "# N biblioteca pyodbc é usado o cursor para criar uma query\n",
    "\n",
    "cursor = conexao.cursor()\n",
    "\n",
    "# Agora usamos o COMANDO do SQL para criação.\n",
    "\n",
    "# OBS, um texto de várias linhas em Python, vc precisa colocá-lo dentro de 3 aspas.\n",
    "\n",
    "# OBS, se foi usado aspas duplas dentro do comendo, usasse aspas simples fora, e virse versa.\n",
    "\n",
    "comando = \"\"\" UPDATE Vendas\n",
    "SET cliente = 'Guilherme Ribeiro'\n",
    "WHERE id_venda = 1 \"\"\"\n",
    "\n",
    "# Para executar o comando usamos o EXECUTE.\n",
    "\n",
    "cursor.execute(comando)\n",
    "\n",
    "# Para atualizar o banco de dados, vc precisa dar um commit.\n",
    "# Caso não dá um update, ñ é necessário dar o commit\n",
    "\n",
    "cursor.commit()"
   ]
  },
  {
   "cell_type": "code",
   "execution_count": 20,
   "id": "b866600e",
   "metadata": {},
   "outputs": [],
   "source": [
    "                         # DELETANDO\n",
    "\n",
    "# N biblioteca pyodbc é usado o cursor para criar uma query\n",
    "\n",
    "cursor = conexao.cursor()\n",
    "\n",
    "# Agora usamos o COMANDO do SQL para criação.\n",
    "\n",
    "# OBS, um texto de várias linhas em Python, vc precisa colocá-lo dentro de 3 aspas.\n",
    "\n",
    "# OBS, se foi usado aspas duplas dentro do comendo, usasse aspas simples fora, e virse versa.\n",
    "\n",
    "comando = \"\"\"DELETE FROM Vendas WHERE cliente = 'Henrique'\"\"\"\n",
    "\n",
    "# Para executar o comando usamos o EXECUTE.\n",
    "\n",
    "cursor.execute(comando)\n",
    "\n",
    "# Para atualizar o banco de dados, vc precisa dar um commit.\n",
    "# Caso não dá um update, ñ é necessário dar o commit\n",
    "\n",
    "cursor.commit()"
   ]
  },
  {
   "cell_type": "code",
   "execution_count": null,
   "id": "9987f7c0",
   "metadata": {},
   "outputs": [],
   "source": []
  }
 ],
 "metadata": {
  "kernelspec": {
   "display_name": "Python 3 (ipykernel)",
   "language": "python",
   "name": "python3"
  },
  "language_info": {
   "codemirror_mode": {
    "name": "ipython",
    "version": 3
   },
   "file_extension": ".py",
   "mimetype": "text/x-python",
   "name": "python",
   "nbconvert_exporter": "python",
   "pygments_lexer": "ipython3",
   "version": "3.11.5"
  }
 },
 "nbformat": 4,
 "nbformat_minor": 5
}
